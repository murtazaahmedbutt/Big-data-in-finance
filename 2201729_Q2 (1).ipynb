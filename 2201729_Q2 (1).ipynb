{
  "cells": [
    {
      "cell_type": "markdown",
      "id": "abfc043d",
      "metadata": {
        "id": "abfc043d"
      },
      "source": [
        "# Q2 Part a"
      ]
    },
    {
      "cell_type": "markdown",
      "id": "b0db44d3",
      "metadata": {
        "id": "b0db44d3"
      },
      "source": [
        "## Shares: There are 3 Possible scenrio for the outcome.\n",
        "- When share price is 12, we would incurr a loss of -8\n",
        "- When share price is 20, we would incurr a loss of 0\n",
        "- When share price is 40, we would incurr a profit of 4\n",
        "- 1/3(-8 + 0 + 20)= 4S\n",
        "\n",
        "Bonds: We can buy the bond at a discounted price of 90 and can sell it after maturity at the face value of 100.\n",
        "- 100b-90b= 10b\n",
        "\n",
        "\n",
        "Call Option Buy: There are three possibilities with equal likelihoods if you buy a call option. In the first case, you sell the stock for 20 after exercising your option to acquire it for 15, incurring a 5 loss. In the second case, you sell the shares for 40 after exercising the option, making a profit of 15. In the third case, you choose not to execute the option and forfeit the 10 option premium. The anticipated return from purchasing a call option is zero since the likelihood of each event is equal.\n",
        "\n",
        "- 1/3(-5+ 15+ -10) =0\n",
        "\n",
        "There are three possible outcomes with equal chance if you sell a call option. In the first case, the option buyer exercises the option, requiring you to pay 20 for the stock, sell it to them for 15, and make a 5 profit. In the second case, the buyer of the option exercises it, requiring you to purchase the stock for 40 and sell it to them for 15, incurring a 15 loss. If the option buyer doesn't exercise the option in the third case, you keep the 10 they initially gave you. The anticipated gain from selling a call option is zero since the likelihood of each outcome is equal.\n",
        "- 1/3(-5+ 15+ -10) =0\n",
        "\n",
        "Objective Function\n",
        "- 4S+10b\n",
        "\n",
        "Budget Constraint\n",
        "- 20S + 90B + 1000C1 <= 20000 + 1000C2\n",
        "\n",
        "Margin Constraint\n",
        "- C2 <= 50\n",
        "\n",
        "All the decision variables must be positive\n",
        "\n"
      ]
    },
    {
      "cell_type": "code",
      "execution_count": null,
      "id": "065411f3",
      "metadata": {
        "id": "065411f3",
        "outputId": "3b0b20a2-f975-4caa-c45b-3063af8ee2dd"
      },
      "outputs": [
        {
          "name": "stdout",
          "output_type": "stream",
          "text": [
            "Optimal solution:\n",
            "B = 0.0 units\n",
            "S = 3500.0 units\n",
            "C = -50.0 units\n",
            "Maximum profit = $ 14000.0\n"
          ]
        }
      ],
      "source": [
        "from scipy.optimize import linprog\n",
        "\n",
        "# Define the coefficients of the objective function\n",
        "c = [-10, -4, 0]\n",
        "\n",
        "# Define the left-hand side coefficients of the inequality constraints\n",
        "A_ub = [[90, 20, 1000],\n",
        "        [-1, 0, 0],\n",
        "        [0, -1, 0],\n",
        "        [0, 0, -1],]\n",
        "\n",
        "# Define the right-hand side values of the inequality constraints\n",
        "b_ub = [20000, 0, 0, 50]\n",
        "\n",
        "# Set the bounds for the decision variables\n",
        "bounds = [(0, None), (0, None), (-50, None)]\n",
        "\n",
        "# Use the linprog function to solve the problem\n",
        "result = linprog(c, A_ub=A_ub, b_ub=b_ub, bounds=bounds)\n",
        "\n",
        "# Print the optimal solution and the maximum profit\n",
        "print(\"Optimal solution:\")\n",
        "print(\"B =\", round(result.x[0], 2), \"units\")\n",
        "print(\"S =\", round(result.x[1], 2), \"units\")\n",
        "print(\"C =\", round(result.x[2], 2), \"units\")\n",
        "print(\"Maximum profit = $\", round(-result.fun, 2))"
      ]
    },
    {
      "cell_type": "markdown",
      "id": "ad5402b2",
      "metadata": {
        "id": "ad5402b2"
      },
      "source": [
        "# Q2 Part B"
      ]
    },
    {
      "cell_type": "markdown",
      "id": "f8e29042",
      "metadata": {
        "id": "f8e29042"
      },
      "source": [
        "We need to add restrictions to make sure the profit exceeds 2000 in every case in order to guarantee that the portfolio's profit is at least 2000. We can do this by establishing a minimum sales target of 22,000 at the conclusion of the first six months, which will serve as a profit cap. These reduced limiting restrictions will enable us to satisfy the requirement that the portfolio's profit be at least 2000.\n",
        "\n",
        "- Scenario 1: 100B + 20S + 500C >= 22000\n",
        "- Scenario 2: 100B + 40S + 2500C >= 22000\n",
        "- Scenario 3: 100B + 12S >= 22000.\n",
        "\n",
        "This gives a new LP of the form\n",
        "maximize\n",
        "- 10B + 4S\n",
        "- 90B + 20S + 1000C <= 20000\n",
        "- 100B + 20S + 500C >= 22000\n",
        "- 100B + 40S + 2500C >= 22000\n",
        "- 100B + 12S >= 22000\n",
        "\n",
        "The best answer to the issue results in a portfolio profit of 11200 anticipated. It's crucial to keep in mind that this is merely an expected value and not a promise of success. The true profit, which must be at least 2000, will be achieved if scenario 2 occurs."
      ]
    },
    {
      "cell_type": "code",
      "execution_count": null,
      "id": "e2ad299c",
      "metadata": {
        "id": "e2ad299c",
        "outputId": "47c9fc83-7b6d-4ac2-f169-8c1147f40dbd"
      },
      "outputs": [
        {
          "name": "stdout",
          "output_type": "stream",
          "text": [
            "Optimal solution:\n",
            "B = 0.0 units\n",
            "S = 2800.0 units\n",
            "C = -36.0 units\n",
            "Maximum profit = $ 11200.0\n"
          ]
        }
      ],
      "source": [
        "from scipy.optimize import linprog\n",
        "    \n",
        "# Define the coefficients of the objective function\n",
        "c = [-10, -4, 0]\n",
        "\n",
        "# Define the left-hand side coefficients of the inequality constraints\n",
        "A_ub = [[90, 20, 1000],\n",
        "        [-100, -20, -500],\n",
        "        [-100, -40, -2500],\n",
        "        [-100, -12, 0],\n",
        "        [-1, 0, 0],\n",
        "        [0, -1, 0],\n",
        "        [0, 0, -1]]\n",
        "\n",
        "# Define the right-hand side values of the inequality constraints\n",
        "b_ub = [20000, -22000, -22000, -22000, 0, 0, 50]\n",
        "\n",
        "# Set the bounds for the decision variables\n",
        "bounds = [(0, None), (0, None), (-50, None)]\n",
        "\n",
        "# Use the linprog function to solve the problem\n",
        "result = linprog(c, A_ub=A_ub, b_ub=b_ub, bounds=bounds)\n",
        "\n",
        "# Print the optimal solution and the maximum profit\n",
        "print(\"Optimal solution:\")\n",
        "print(\"B =\", round(result.x[0], 2), \"units\")\n",
        "print(\"S =\", round(result.x[1], 2), \"units\")\n",
        "print(\"C =\", round(result.x[2], 2), \"units\")\n",
        "print(\"Maximum profit = $\", round(-result.fun, 2))"
      ]
    },
    {
      "cell_type": "markdown",
      "id": "fffa91b9",
      "metadata": {
        "id": "fffa91b9"
      },
      "source": [
        "# Q2 Part C"
      ]
    },
    {
      "cell_type": "markdown",
      "id": "9591a113",
      "metadata": {
        "id": "9591a113"
      },
      "source": [
        "In whatever circumstance, we aim to maximise the bare minimal profit we can get. To achieve this, we may add a new variable called Z, which stands for the lowest amount of income we can have after six months, irrespective of what scenario takes place. The value of J is therefore maximised. As a result, a new linear programme will be produced.\n",
        "\n",
        "- 90B + 20S + 1000C <= 20000\n",
        "- 100B + 20S + 500C >= 20000 + J\n",
        "- 100B + 40S + 2500C >= 20000 + J\n",
        "- 100B + 12S > 20000 + J\n",
        "\n",
        "Resulting in an expected Minimum profit = 7272.73 and Maximum profit = 9090.91"
      ]
    },
    {
      "cell_type": "code",
      "execution_count": null,
      "id": "7c94a60a",
      "metadata": {
        "id": "7c94a60a",
        "outputId": "de072f1f-c607-4cd7-8e94-cc96081b0bf6"
      },
      "outputs": [
        {
          "name": "stdout",
          "output_type": "stream",
          "text": [
            "Optimal solution:\n",
            "B = 0.0 units\n",
            "S = 2272.73 units\n",
            "C = -25.45 units\n",
            "Z = 7272.73 units\n",
            "Minimum profit = $ 7272.73\n",
            "Maximum profit = $ 9090.91\n"
          ]
        }
      ],
      "source": [
        "from scipy.optimize import linprog\n",
        "    \n",
        "# Define the coefficients of the objective function\n",
        "# B, S, C, Z\n",
        "c = [0, 0, 0, -1]\n",
        "\n",
        "# Define the left-hand side coefficients of the inequality constraints\n",
        "A_ub = [[90, 20, 1000, 0],\n",
        "        [-100, -20, -500, 1],\n",
        "        [-100, -40, -2500, 1],\n",
        "        [-100, -12, 0, 1],\n",
        "        [-1, 0, 0, 0],\n",
        "        [0, -1, 0, 0],\n",
        "        [0, 0, -1, 0],\n",
        "        [0, 0, 0, -1]]\n",
        "\n",
        "# Define the right-hand side values of the inequality constraints\n",
        "b_ub = [20000, -20000, -20000, -20000, 0, 0, 50, 0]\n",
        "\n",
        "# Set the bounds for the decision variables\n",
        "bounds = [(0, None), (0, None), (-50, None), (0, None)]\n",
        "\n",
        "# Use the linprog function to solve the problem\n",
        "result = linprog(c, A_ub=A_ub, b_ub=b_ub, bounds=bounds)\n",
        "\n",
        "# Print the optimal solution and the maximum profit\n",
        "print(\"Optimal solution:\")\n",
        "print(\"B =\", round(result.x[0], 2), \"units\")\n",
        "print(\"S =\", round(result.x[1], 2), \"units\")\n",
        "print(\"C =\", round(result.x[2], 2), \"units\")\n",
        "print(\"Z =\", round(result.x[3], 2), \"units\")\n",
        "print(\"Minimum profit = $\", round(-result.fun, 2))\n",
        "print(\"Maximum profit = $\", round((result.x[0]*10)+(result.x[1]*4), 2))"
      ]
    }
  ],
  "metadata": {
    "kernelspec": {
      "display_name": "Python 3 (ipykernel)",
      "language": "python",
      "name": "python3"
    },
    "language_info": {
      "codemirror_mode": {
        "name": "ipython",
        "version": 3
      },
      "file_extension": ".py",
      "mimetype": "text/x-python",
      "name": "python",
      "nbconvert_exporter": "python",
      "pygments_lexer": "ipython3",
      "version": "3.9.12"
    },
    "colab": {
      "provenance": []
    }
  },
  "nbformat": 4,
  "nbformat_minor": 5
}